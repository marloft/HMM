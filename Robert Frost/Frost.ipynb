{
 "cells": [
  {
   "cell_type": "code",
   "execution_count": 21,
   "metadata": {
    "collapsed": false
   },
   "outputs": [
    {
     "name": "stdout",
     "output_type": "stream",
     "text": [
      "quick i slammed to the eye of man\n",
      "but all the worse you must have heard of a shutter\n",
      "but i had such company outward bound\n",
      "she wants our hens and cows and pigs are always better\n"
     ]
    }
   ],
   "source": [
    "import numpy as np\n",
    "import string\n",
    "\n",
    "initial={}\n",
    "second_word={}\n",
    "transitions={}\n",
    "\n",
    "def remove_punctuation(s):\n",
    "    return s.translate(None, string.punctuation)\n",
    "\n",
    "def add2dict(d, k, v):\n",
    "    if k not in d:\n",
    "        d[k] =[]\n",
    "    d[k].append(v)\n",
    "    \n",
    "for line in open('robert_frost.txt'):\n",
    "    tokens=remove_punctuation(line.rstrip().lower()).split()\n",
    "    \n",
    "    T=len(tokens)\n",
    "    for i in xrange(T):\n",
    "        t=tokens[i]\n",
    "        if i==0:\n",
    "            initial[t]=initial.get(t, 0.) + 1\n",
    "        else:\n",
    "            t_1=tokens[i-1]\n",
    "            if i == T - 1:\n",
    "                add2dict(transitions, (t_1, t), 'END')\n",
    "            if i==1:\n",
    "                add2dict(second_word, t_1, t)\n",
    "            else:\n",
    "                t_2=tokens[i-2]\n",
    "                add2dict(transitions, (t_2, t_1), t)\n",
    "                \n",
    "#normalize the distributions\n",
    "initial_total=sum(initial.values())\n",
    "for t, c in initial.iteritems():\n",
    "    initial[t]=c/initial_total\n",
    "    \n",
    "def list2pdict(ts):\n",
    "    d={}\n",
    "    n=len(ts)\n",
    "    for t in ts:\n",
    "        d[t]=d.get(t, 0.)+1\n",
    "    for t, c in d.iteritems():\n",
    "        d[t]=c/n\n",
    "    return d\n",
    "\n",
    "for t_1, ts in second_word.iteritems():\n",
    "    second_word[t_1]=list2pdict(ts)\n",
    "\n",
    "for k, ts in transitions.iteritems():\n",
    "    transitions[k]=list2pdict(ts)\n",
    "\n",
    "def sample_word(d):\n",
    "    p0=np.random.random()\n",
    "    cumulative=0\n",
    "    for t, p in d.iteritems():\n",
    "        cumulative += p\n",
    "        if p0< cumulative:\n",
    "            return t\n",
    "    assert(False)\n",
    "\n",
    "def generate():\n",
    "    for i in xrange(4):\n",
    "        sentence=[]\n",
    "        \n",
    "        w0=sample_word(initial)\n",
    "        sentence.append(w0)    \n",
    "        \n",
    "        w1=sample_word(second_word[w0])\n",
    "        sentence.append(w1)\n",
    "                       \n",
    "        while True:\n",
    "            w2=sample_word(transitions[(w0, w1)])\n",
    "            if w2=='END':\n",
    "                break\n",
    "            sentence.append(w2)\n",
    "            w0=w1\n",
    "            w1=w2\n",
    "        print ' '.join(sentence)\n",
    "        \n",
    "generate()"
   ]
  },
  {
   "cell_type": "code",
   "execution_count": null,
   "metadata": {
    "collapsed": true
   },
   "outputs": [],
   "source": []
  }
 ],
 "metadata": {
  "kernelspec": {
   "display_name": "Python 2",
   "language": "python",
   "name": "python2"
  },
  "language_info": {
   "codemirror_mode": {
    "name": "ipython",
    "version": 2
   },
   "file_extension": ".py",
   "mimetype": "text/x-python",
   "name": "python",
   "nbconvert_exporter": "python",
   "pygments_lexer": "ipython2",
   "version": "2.7.11"
  }
 },
 "nbformat": 4,
 "nbformat_minor": 0
}
