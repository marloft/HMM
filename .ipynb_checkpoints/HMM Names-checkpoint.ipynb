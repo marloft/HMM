{
 "cells": [
  {
   "cell_type": "code",
   "execution_count": 2,
   "metadata": {
    "collapsed": false
   },
   "outputs": [
    {
     "ename": "NameError",
     "evalue": "name 'simplehmm' is not defined",
     "output_type": "error",
     "traceback": [
      "\u001b[1;31m---------------------------------------------------------------------------\u001b[0m",
      "\u001b[1;31mNameError\u001b[0m                                 Traceback (most recent call last)",
      "\u001b[1;32m<ipython-input-2-09f27120b63f>\u001b[0m in \u001b[0;36m<module>\u001b[1;34m()\u001b[0m\n\u001b[0;32m     31\u001b[0m \u001b[1;31m# Initialise a new HMM and train it\u001b[0m\u001b[1;33m\u001b[0m\u001b[1;33m\u001b[0m\u001b[0m\n\u001b[0;32m     32\u001b[0m \u001b[1;33m\u001b[0m\u001b[0m\n\u001b[1;32m---> 33\u001b[1;33m \u001b[0mtest_hmm\u001b[0m \u001b[1;33m=\u001b[0m \u001b[0msimplehmm\u001b[0m\u001b[1;33m.\u001b[0m\u001b[0mhmm\u001b[0m\u001b[1;33m(\u001b[0m\u001b[1;34m'Test HMM'\u001b[0m\u001b[1;33m,\u001b[0m \u001b[0mtest_hmm_states\u001b[0m\u001b[1;33m,\u001b[0m \u001b[0mtest_hmm_observ\u001b[0m\u001b[1;33m)\u001b[0m\u001b[1;33m\u001b[0m\u001b[0m\n\u001b[0m\u001b[0;32m     34\u001b[0m \u001b[0mtest_hmm\u001b[0m\u001b[1;33m.\u001b[0m\u001b[0mtrain\u001b[0m\u001b[1;33m(\u001b[0m\u001b[0mtrain_data\u001b[0m\u001b[1;33m)\u001b[0m  \u001b[1;31m# Train the HMM\u001b[0m\u001b[1;33m\u001b[0m\u001b[0m\n\u001b[0;32m     35\u001b[0m \u001b[1;33m\u001b[0m\u001b[0m\n",
      "\u001b[1;31mNameError\u001b[0m: name 'simplehmm' is not defined"
     ]
    }
   ],
   "source": [
    "#include \n",
    "# ====================================================================\n",
    "\n",
    "# Define HMM state list and observation list\n",
    "\n",
    "test_hmm_states = ['title', 'givenname', 'surname']\n",
    "test_hmm_observ = ['TI', 'GM', 'GF', 'SN', 'UN']\n",
    "\n",
    "# Some example training records (one per line) with state/tag pairs\n",
    "\n",
    "train_data = [[('title','TI'),('givenname','GF'),('surname','SN')],\n",
    "              [('givenname','GM'),('surname','UN')],\n",
    "              [('title','UN'),('givenname','GM'),('surname','UN')],\n",
    "              [('title','TI'),('givenname','SN'),('surname','SN')],\n",
    "              [('givenname','GM'),('surname','SN')],\n",
    "              [('title','TI'),('givenname','GF'),('surname','SN')],\n",
    "              [('title','TI'),('surname','SN'),('givenname','GM')],\n",
    "              [('surname','UN'),('givenname','UN')],\n",
    "              [('givenname','GF'),('surname','GF'),('surname','SN')]]\n",
    "\n",
    "# Some test examples (observation (tag) sequences), one per line\n",
    "\n",
    "test_data = [['TI','GM','SN'],\n",
    "             ['UN','SN'],\n",
    "             ['TI','UN','UN'],\n",
    "             ['TI','GF','UN'],\n",
    "             ['UN','UN','UN','UN'],\n",
    "             ['TI','GM','UN','SN'],\n",
    "             ['GF','UN']]\n",
    "\n",
    "# Initialise a new HMM and train it\n",
    "\n",
    "test_hmm = simplehmm.hmm('Test HMM', test_hmm_states, test_hmm_observ)\n",
    "test_hmm.train(train_data)  # Train the HMM\n",
    "\n",
    "test_hmm.check_prob()  # Check its probabilities\n",
    "test_hmm.print_hmm()   # Print it out\n",
    "\n",
    "# Apply the Viterbi algorithm to each sequence of the test data\n",
    "\n",
    "for test_rec in test_data:\n",
    "  [state_sequence, sequence_probability] = test_hmm.viterbi(test_rec)\n",
    "\n",
    "# Initialise and train a second HMM using the same training data and\n",
    "# applying Laplace smoothing\n",
    "\n",
    "test_hmm2 = simplehmm.hmm('Test HMM 2', test_states, test_observ)\n",
    "test_hmm2.train(train_data, smoothing='laplace')\n",
    "\n",
    "# Save the second  HMM into a text file\n",
    "\n",
    "test_hmm2.save_hmm('testhmm2.hmm')\n",
    "\n",
    "# Initialise a third HMM, then load the previously saved HMM into it\n",
    "\n",
    "test_hmm3 = simplehmm.hmm('Test HMM 3',  ['dummy'], ['dummy'])\n",
    "test_hmm3.load_hmm('testhmm2.hmm')\n",
    "test_hmm3.print_hmm()  # Print it out"
   ]
  },
  {
   "cell_type": "code",
   "execution_count": null,
   "metadata": {
    "collapsed": true
   },
   "outputs": [],
   "source": []
  }
 ],
 "metadata": {
  "kernelspec": {
   "display_name": "Python 2",
   "language": "python",
   "name": "python2"
  },
  "language_info": {
   "codemirror_mode": {
    "name": "ipython",
    "version": 2
   },
   "file_extension": ".py",
   "mimetype": "text/x-python",
   "name": "python",
   "nbconvert_exporter": "python",
   "pygments_lexer": "ipython2",
   "version": "2.7.11"
  }
 },
 "nbformat": 4,
 "nbformat_minor": 0
}
